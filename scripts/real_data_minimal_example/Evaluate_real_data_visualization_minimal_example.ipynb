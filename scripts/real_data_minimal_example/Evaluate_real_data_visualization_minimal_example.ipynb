{
 "cells": [
  {
   "cell_type": "code",
   "execution_count": 1,
   "id": "particular-welding",
   "metadata": {},
   "outputs": [],
   "source": [
    "import scanpy as sc\n",
    "import anndata as ad\n",
    "import scib\n",
    "import numpy as np\n",
    "import pandas as pd\n",
    "import matplotlib as mpl\n",
    "import matplotlib.pyplot as plt\n",
    "import seaborn as sns\n",
    "import matplotlib.font_manager as fm"
   ]
  },
  {
   "cell_type": "code",
   "execution_count": 2,
   "id": "super-world",
   "metadata": {},
   "outputs": [],
   "source": [
    "# From https://matplotlib.org/stable/gallery/subplots_axes_and_figures/figure_size_units.html\n",
    "mm = 1/25.4  # millimeters in inches"
   ]
  },
  {
   "cell_type": "code",
   "execution_count": 3,
   "id": "direct-burns",
   "metadata": {},
   "outputs": [],
   "source": [
    "# overwrite scanpy/matplotlib default font: chose: Arial"
   ]
  },
  {
   "cell_type": "code",
   "execution_count": 4,
   "id": "behind-elimination",
   "metadata": {},
   "outputs": [],
   "source": [
    "# Need to remove chached fonts"
   ]
  },
  {
   "cell_type": "code",
   "execution_count": 5,
   "id": "ceramic-movie",
   "metadata": {},
   "outputs": [],
   "source": [
    "! rm ~/.cache/matplotlib -rf"
   ]
  },
  {
   "cell_type": "code",
   "execution_count": 6,
   "id": "technical-uncle",
   "metadata": {},
   "outputs": [],
   "source": [
    "font_dirs = [\"/fast/AG_Ohler/prauten/conda_envs/scib_no_defaults/fonts\"]  # The path to the custom font file.\n",
    "\n",
    "font_files = fm.findSystemFonts(fontpaths=font_dirs)\n",
    "\n",
    "for font_file in font_files:\n",
    "    fm.fontManager.addfont(font_file)"
   ]
  },
  {
   "cell_type": "code",
   "execution_count": 7,
   "id": "diagnostic-architect",
   "metadata": {},
   "outputs": [],
   "source": [
    "# change font\n",
    "plt.rcParams['font.family'] = \"sans-serif\"\n",
    "plt.rcParams['font.sans-serif'] = \"Arial\""
   ]
  },
  {
   "cell_type": "code",
   "execution_count": 8,
   "id": "positive-undergraduate",
   "metadata": {},
   "outputs": [],
   "source": [
    "plt.rcParams['lines.markersize'] = 1.0"
   ]
  },
  {
   "cell_type": "code",
   "execution_count": 9,
   "id": "cross-toolbox",
   "metadata": {},
   "outputs": [],
   "source": [
    "# Set font sizes\n",
    "mpl.rcParams['font.size'] = 7\n",
    "mpl.rcParams['axes.labelsize'] = 7\n",
    "mpl.rcParams['xtick.labelsize'] = 7\n",
    "mpl.rcParams['ytick.labelsize'] = 7\n",
    "mpl.rcParams['legend.fontsize'] = 7\n",
    "#mpl.rcParams['title.fontsize'] = 7\n"
   ]
  },
  {
   "cell_type": "code",
   "execution_count": 10,
   "id": "alternate-magic",
   "metadata": {},
   "outputs": [],
   "source": [
    "use_case = 'real_data_minimal_example'"
   ]
  },
  {
   "cell_type": "code",
   "execution_count": 11,
   "id": "green-possibility",
   "metadata": {},
   "outputs": [],
   "source": [
    "cmap = plt.get_cmap('Greys', 9)"
   ]
  },
  {
   "cell_type": "code",
   "execution_count": 12,
   "id": "hidden-passing",
   "metadata": {},
   "outputs": [
    {
     "data": {
      "image/png": "[encoded data removed]",
      "text/html": [
       "<div style=\"vertical-align: middle;\"><strong>Greys</strong> </div><div class=\"cmap\"><img alt=\"Greys colormap\" title=\"Greys\" style=\"border: 1px solid #555;\" src=\"data:image/png;base64,iVBORw0KGgoAAAANSUhEUgAAAgAAAABACAYAAABsv8+/AAAAFHRFWHRUaXRsZQBHcmV5cyBjb2xvcm1hcORtd/YAAAAadEVYdERlc2NyaXB0aW9uAEdyZXlzIGNvbG9ybWFwGjLeEAAAADB0RVh0QXV0aG9yAE1hdHBsb3RsaWIgdjMuOS4yLCBodHRwczovL21hdHBsb3RsaWIub3JnYZnFUwAAADJ0RVh0U29mdHdhcmUATWF0cGxvdGxpYiB2My45LjIsIGh0dHBzOi8vbWF0cGxvdGxpYi5vcmdPP1p0AAABXUlEQVR4nO3WsQ2DQADAwCT7b0eFEKKhoWQCMsXnpfhuApd+P8/zvP7cfd+zE4a7rmt2wnDnec5OGG5d19kJQ+37PjthuOM4ZicMtyzL7IThtm2bnTDcZ3YAAPB7BgAAggwAAAQZAAAIMgAAEGQAACDIAABAkAEAgCADAABBBgAAggwAAAQZAAAIMgAAEGQAACDIAABAkAEAgCADAABBBgAAggwAAAQZAAAIMgAAEGQAACDIAABAkAEAgCADAABBBgAAggwAAAQZAAAIMgAAEGQAACDIAABAkAEAgCADAABBBgAAggwAAAQZAAAIMgAAEGQAACDIAABAkAEAgCADAABBBgAAggwAAAQZAAAIMgAAEGQAACDIAABAkAEAgCADAABBBgAAggwAAAQZAAAIMgAAEGQAACDIAABAkAEAgCADAABBBgAAggwAAAQZAAAIMgAAEGQAACDIAABA0Bdvghl/PMnJywAAAABJRU5ErkJggg==\"></div><div style=\"vertical-align: middle; max-width: 514px; display: flex; justify-content: space-between;\"><div style=\"float: left;\"><div title=\"#ffffffff\" style=\"display: inline-block; width: 1em; height: 1em; margin: 0; vertical-align: middle; border: 1px solid #555; background-color: #ffffffff;\"></div> under</div><div style=\"margin: 0 auto; display: inline-block;\">bad <div title=\"#00000000\" style=\"display: inline-block; width: 1em; height: 1em; margin: 0; vertical-align: middle; border: 1px solid #555; background-color: #00000000;\"></div></div><div style=\"float: right;\">over <div title=\"#000000ff\" style=\"display: inline-block; width: 1em; height: 1em; margin: 0; vertical-align: middle; border: 1px solid #555; background-color: #000000ff;\"></div></div></div>"
      ],
      "text/plain": [
       "<matplotlib.colors.LinearSegmentedColormap at 0x14911053e530>"
      ]
     },
     "execution_count": 12,
     "metadata": {},
     "output_type": "execute_result"
    }
   ],
   "source": [
    "cmap"
   ]
  },
  {
   "cell_type": "code",
   "execution_count": 13,
   "id": "bulgarian-command",
   "metadata": {},
   "outputs": [],
   "source": [
    "custom_palette = [mpl.colors.rgb2hex(cmap(i)) for i in range(cmap.N)]"
   ]
  },
  {
   "cell_type": "code",
   "execution_count": 14,
   "id": "economic-camera",
   "metadata": {},
   "outputs": [],
   "source": [
    "custom_palette=custom_palette[2:-3]"
   ]
  },
  {
   "cell_type": "code",
   "execution_count": 15,
   "id": "limiting-mailing",
   "metadata": {},
   "outputs": [],
   "source": [
    "categories = {'asw_batch': 'Batch removal',\n",
    " 'asw_batch_cosine': 'Batch removal',\n",
    " 'asw_batch_mean_other': 'Batch removal',\n",
    " 'asw_batch_mean_other_cosine': 'Batch removal',\n",
    " 'asw_batch_furthest': 'Batch removal',\n",
    " 'asw_batch_furthest_cosine': 'Batch removal',\n",
    " 'iLISI_batch': 'Batch removal',\n",
    " 'cLISI_full': 'Bio-conservation',\n",
    " 'CiLISI_batch': 'Batch removal',\n",
    " 'asw_label': 'Bio-conservation',\n",
    " 'asw_label_cosine': 'Bio-conservation',\n",
    " 'nmi': 'Bio-conservation',\n",
    " 'ari': 'Bio-conservation'}"
   ]
  },
  {
   "cell_type": "code",
   "execution_count": 16,
   "id": "closed-voluntary",
   "metadata": {},
   "outputs": [],
   "source": [
    "metric_mapping = {'asw_batch': 'silhouette-based \\n batch removal metric \\n (Batch ASW)',\\\n",
    "                               'asw_batch_cosine': 'Batch ASW (cosine)',\\\n",
    "                               'asw_batch_mean_other': 'BRAS (euclidean)',\\\n",
    "                                'asw_batch_mean_other_cosine': 'BRAS',\\\n",
    "                                'asw_batch_furthest': 'BRAS (furthest, euclidean)',\\\n",
    "                                'asw_batch_furthest_cosine': 'BRAS (furthest, cosine)',\\\n",
    "                                'iLISI_batch': 'iLISI',\\\n",
    "                                'cLISI_full': 'cLISI',\\\n",
    "                                'CiLISI_batch': 'CiLISI',\\\n",
    "                                'asw_label': 'Cell type ASW',\\\n",
    "                                'asw_label_cosine': 'Cell type ASW (cosine)',\\\n",
    "                                'nmi': 'NMI cluster/label',\\\n",
    "                                'ari': 'ARI cluster/label'\n",
    "                               }"
   ]
  },
  {
   "cell_type": "code",
   "execution_count": 17,
   "id": "further-progressive",
   "metadata": {},
   "outputs": [],
   "source": [
    "scores = pd.read_csv(\"evaluation/batch_removal_scores_real_data_minimal_example.csv\", index_col=0)"
   ]
  },
  {
   "cell_type": "code",
   "execution_count": 18,
   "id": "twenty-sheriff",
   "metadata": {},
   "outputs": [],
   "source": [
    "scores = scores.T"
   ]
  },
  {
   "cell_type": "code",
   "execution_count": 19,
   "id": "unsigned-haiti",
   "metadata": {},
   "outputs": [],
   "source": [
    "scores = scores.reset_index().melt(id_vars='index', var_name='Metric', value_name='Score')\n"
   ]
  },
  {
   "cell_type": "code",
   "execution_count": 20,
   "id": "acceptable-trail",
   "metadata": {},
   "outputs": [],
   "source": [
    "scores = scores.rename(columns={'index': 'Scenario'})"
   ]
  },
  {
   "cell_type": "code",
   "execution_count": 21,
   "id": "spread-heritage",
   "metadata": {},
   "outputs": [],
   "source": [
    "scores['Scenario'] = scores['Scenario'].astype('category')"
   ]
  },
  {
   "cell_type": "code",
   "execution_count": 22,
   "id": "incoming-inside",
   "metadata": {},
   "outputs": [],
   "source": [
    "scores['Scenario'] = scores['Scenario'].map({'Liam_x5_minimal_example': 'Optimized', 'Liam_x1_minimal_example': 'Effective', 'naiveIntegration_minimal_example': 'Suboptimal', 'noIntegration_minimal_example': 'None'})"
   ]
  },
  {
   "cell_type": "code",
   "execution_count": 23,
   "id": "abstract-clone",
   "metadata": {},
   "outputs": [],
   "source": [
    "scores['Scenario'] = scores['Scenario'].cat.reorder_categories(['None', 'Suboptimal', 'Effective', 'Optimized'], ordered=True)"
   ]
  },
  {
   "cell_type": "code",
   "execution_count": 24,
   "id": "inappropriate-tuner",
   "metadata": {},
   "outputs": [],
   "source": [
    "scores['Category'] = scores['Metric'].map(categories)"
   ]
  },
  {
   "cell_type": "code",
   "execution_count": 25,
   "id": "beginning-anthropology",
   "metadata": {},
   "outputs": [],
   "source": [
    "bio_scores = scores[scores['Category'] == 'Bio-conservation']"
   ]
  },
  {
   "cell_type": "code",
   "execution_count": 26,
   "id": "decent-stage",
   "metadata": {},
   "outputs": [
    {
     "name": "stderr",
     "output_type": "stream",
     "text": [
      "/tmp/7431749.1.gpu.q/ipykernel_17128/2146692233.py:1: SettingWithCopyWarning: \n",
      "A value is trying to be set on a copy of a slice from a DataFrame.\n",
      "Try using .loc[row_indexer,col_indexer] = value instead\n",
      "\n",
      "See the caveats in the documentation: https://pandas.pydata.org/pandas-docs/stable/user_guide/indexing.html#returning-a-view-versus-a-copy\n",
      "  bio_scores['Metric'] = bio_scores['Metric'].map(metric_mapping)\n"
     ]
    }
   ],
   "source": [
    "bio_scores['Metric'] = bio_scores['Metric'].map(metric_mapping)"
   ]
  },
  {
   "cell_type": "code",
   "execution_count": 27,
   "id": "classified-modeling",
   "metadata": {},
   "outputs": [],
   "source": [
    "batch_scores = scores[scores['Category'] == 'Batch removal']"
   ]
  },
  {
   "cell_type": "code",
   "execution_count": 28,
   "id": "thousand-peter",
   "metadata": {},
   "outputs": [
    {
     "name": "stderr",
     "output_type": "stream",
     "text": [
      "/tmp/7431749.1.gpu.q/ipykernel_17128/2892087235.py:1: SettingWithCopyWarning: \n",
      "A value is trying to be set on a copy of a slice from a DataFrame.\n",
      "Try using .loc[row_indexer,col_indexer] = value instead\n",
      "\n",
      "See the caveats in the documentation: https://pandas.pydata.org/pandas-docs/stable/user_guide/indexing.html#returning-a-view-versus-a-copy\n",
      "  batch_scores['Metric'] = batch_scores['Metric'].map(metric_mapping)\n"
     ]
    }
   ],
   "source": [
    "batch_scores['Metric'] = batch_scores['Metric'].map(metric_mapping)"
   ]
  },
  {
   "cell_type": "code",
   "execution_count": 29,
   "id": "charming-sally",
   "metadata": {},
   "outputs": [],
   "source": [
    "# Metrics main figure"
   ]
  },
  {
   "cell_type": "code",
   "execution_count": 30,
   "id": "coral-rocket",
   "metadata": {},
   "outputs": [],
   "source": [
    "plt.rcParams[\"axes.linewidth\"] = 1\n",
    "mpl.rcParams['xtick.major.width'] = 1\n",
    "mpl.rcParams['ytick.major.width'] = 1\n",
    "mpl.rcParams['xtick.minor.width'] = 1\n",
    "mpl.rcParams['ytick.minor.width'] = 1\n"
   ]
  },
  {
   "cell_type": "code",
   "execution_count": 31,
   "id": "arctic-authorization",
   "metadata": {},
   "outputs": [],
   "source": [
    "batch_scores_main = batch_scores[(batch_scores['Metric'] == 'silhouette-based \\n batch removal metric \\n (Batch ASW)') | \n",
    "                                 (batch_scores['Metric'] == 'BRAS') | \n",
    "                                 (batch_scores['Metric'] == 'CiLISI')]\n"
   ]
  },
  {
   "cell_type": "code",
   "execution_count": 32,
   "id": "molecular-occurrence",
   "metadata": {},
   "outputs": [],
   "source": [
    "plt.rcParams[\"figure.figsize\"] = (80*mm, 3/8*80*mm)"
   ]
  },
  {
   "cell_type": "code",
   "execution_count": 33,
   "id": "conditional-russell",
   "metadata": {},
   "outputs": [
    {
     "data": {
      "image/png": "[encoded data removed]",
      "text/plain": [
       "<Figure size 314.961x118.11 with 1 Axes>"
      ]
     },
     "metadata": {},
     "output_type": "display_data"
    }
   ],
   "source": [
    "g = sns.barplot(data=batch_scores_main, x='Metric', y='Score', hue='Scenario', palette=custom_palette)\n",
    "plt.xticks(rotation=0)\n",
    "g.legend(loc='center left', bbox_to_anchor=(1, 0.5))\n",
    "plt.savefig('figures/{}_main_batch_removal.png'.format(use_case), format='png', dpi=600, bbox_inches='tight')"
   ]
  },
  {
   "cell_type": "code",
   "execution_count": 34,
   "id": "fantastic-reservation",
   "metadata": {},
   "outputs": [],
   "source": [
    "plt.rcParams[\"figure.figsize\"] = (1/3*80*mm, 3/8*80*mm)"
   ]
  },
  {
   "cell_type": "code",
   "execution_count": 35,
   "id": "vocational-grass",
   "metadata": {},
   "outputs": [
    {
     "data": {
      "image/png": "[encoded data removed]",
      "text/plain": [
       "<Figure size 104.987x118.11 with 1 Axes>"
      ]
     },
     "metadata": {},
     "output_type": "display_data"
    }
   ],
   "source": [
    "g = sns.barplot(data=bio_scores[bio_scores['Metric'] == 'ARI cluster/label'], x='Metric', y='Score', hue='Scenario', palette=custom_palette)\n",
    "plt.xticks(rotation=0)\n",
    "g.legend(loc='center left', bbox_to_anchor=(1, 0.5))\n",
    "plt.savefig('figures/{}_main_bio_cons.png'.format(use_case), format='png', dpi=600, bbox_inches='tight')"
   ]
  },
  {
   "cell_type": "code",
   "execution_count": 36,
   "id": "suspended-douglas",
   "metadata": {},
   "outputs": [],
   "source": [
    "# All metrics supplement"
   ]
  },
  {
   "cell_type": "code",
   "execution_count": 37,
   "id": "uniform-plane",
   "metadata": {},
   "outputs": [],
   "source": [
    "plt.rcParams[\"figure.figsize\"] = (8/13*150*mm, 3/8*80*mm)"
   ]
  },
  {
   "cell_type": "code",
   "execution_count": 38,
   "id": "declared-romania",
   "metadata": {},
   "outputs": [
    {
     "data": {
      "image/png": "[encoded data removed]",
      "text/plain": [
       "<Figure size 363.416x118.11 with 1 Axes>"
      ]
     },
     "metadata": {},
     "output_type": "display_data"
    }
   ],
   "source": [
    "g = sns.barplot(data=batch_scores, x='Metric', y='Score', hue='Scenario', palette=custom_palette)\n",
    "plt.xticks(rotation=90)\n",
    "g.legend(loc='center left', bbox_to_anchor=(1, 0.5))\n",
    "plt.savefig('figures/{}_supp_batch_removal.png'.format(use_case), format='png', dpi=600, bbox_inches='tight')"
   ]
  },
  {
   "cell_type": "code",
   "execution_count": 39,
   "id": "matched-third",
   "metadata": {},
   "outputs": [],
   "source": [
    "plt.rcParams[\"figure.figsize\"] = (5/13*150*mm, 3/8*80*mm)"
   ]
  },
  {
   "cell_type": "code",
   "execution_count": 40,
   "id": "impaired-variance",
   "metadata": {},
   "outputs": [
    {
     "data": {
      "image/png": "[encoded data removed]",
      "text/plain": [
       "<Figure size 227.135x118.11 with 1 Axes>"
      ]
     },
     "metadata": {},
     "output_type": "display_data"
    }
   ],
   "source": [
    "g = sns.barplot(data=bio_scores, x='Metric', y='Score', hue='Scenario', palette=custom_palette)\n",
    "plt.xticks(rotation=90)\n",
    "g.legend(loc='center left', bbox_to_anchor=(1, 0.5))\n",
    "plt.savefig('figures/{}_supp_bio_cons.png'.format(use_case), format='png', dpi=600, bbox_inches='tight')"
   ]
  },
  {
   "cell_type": "code",
   "execution_count": 41,
   "id": "hispanic-oxygen",
   "metadata": {},
   "outputs": [
    {
     "name": "stdout",
     "output_type": "stream",
     "text": [
      "Default font size: 7.0\n",
      "Title font size: 18.0\n",
      "Axes label font size: 7.0\n",
      "X-tick label font size: 7.0\n",
      "Y-tick label font size: 7.0\n",
      "Legend font size: 7.0\n"
     ]
    }
   ],
   "source": [
    "print(\"Default font size:\", plt.rcParams['font.size'])\n",
    "print(\"Title font size:\", plt.rcParams['axes.titlesize'])\n",
    "print(\"Axes label font size:\", plt.rcParams['axes.labelsize'])\n",
    "print(\"X-tick label font size:\", plt.rcParams['xtick.labelsize'])\n",
    "print(\"Y-tick label font size:\", plt.rcParams['ytick.labelsize'])\n",
    "print(\"Legend font size:\", plt.rcParams['legend.fontsize'])\n"
   ]
  }
 ],
 "metadata": {
  "kernelspec": {
   "display_name": "scib_no_defaults",
   "language": "python",
   "name": "scib_no_defaults"
  },
  "language_info": {
   "codemirror_mode": {
    "name": "ipython",
    "version": 3
   },
   "file_extension": ".py",
   "mimetype": "text/x-python",
   "name": "python",
   "nbconvert_exporter": "python",
   "pygments_lexer": "ipython3",
   "version": "3.10.14"
  }
 },
 "nbformat": 4,
 "nbformat_minor": 5
}
