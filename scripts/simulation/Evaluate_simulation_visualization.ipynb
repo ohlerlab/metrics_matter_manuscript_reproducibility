{
 "cells": [
  {
   "cell_type": "code",
   "execution_count": 1,
   "id": "ready-pixel",
   "metadata": {},
   "outputs": [],
   "source": [
    "import scanpy as sc\n",
    "import anndata as ad\n",
    "import scib\n",
    "import numpy as np\n",
    "import pandas as pd\n",
    "import matplotlib as mpl\n",
    "import matplotlib.pyplot as plt\n",
    "import seaborn as sns\n",
    "import matplotlib.font_manager as fm"
   ]
  },
  {
   "cell_type": "code",
   "execution_count": 2,
   "id": "impressive-dialogue",
   "metadata": {},
   "outputs": [],
   "source": [
    "# From https://matplotlib.org/stable/gallery/subplots_axes_and_figures/figure_size_units.html\n",
    "mm = 1/25.4  # millimeters in inches"
   ]
  },
  {
   "cell_type": "code",
   "execution_count": 3,
   "id": "meaningful-victim",
   "metadata": {},
   "outputs": [],
   "source": [
    "# overwrite scanpy/matplotlib default font: chose: Arial"
   ]
  },
  {
   "cell_type": "code",
   "execution_count": 4,
   "id": "psychological-portugal",
   "metadata": {},
   "outputs": [],
   "source": [
    "# Need to remove chached fonts"
   ]
  },
  {
   "cell_type": "code",
   "execution_count": 5,
   "id": "occupied-timer",
   "metadata": {},
   "outputs": [],
   "source": [
    "! rm ~/.cache/matplotlib -rf"
   ]
  },
  {
   "cell_type": "code",
   "execution_count": 6,
   "id": "fantastic-montana",
   "metadata": {},
   "outputs": [],
   "source": [
    "font_dirs = [\"/fast/AG_Ohler/prauten/conda_envs/scib_no_defaults/fonts\"]  # The path to the custom font file.\n",
    "\n",
    "font_files = fm.findSystemFonts(fontpaths=font_dirs)\n",
    "\n",
    "for font_file in font_files:\n",
    "    fm.fontManager.addfont(font_file)"
   ]
  },
  {
   "cell_type": "code",
   "execution_count": 7,
   "id": "applicable-plane",
   "metadata": {},
   "outputs": [],
   "source": [
    "# change font\n",
    "plt.rcParams['font.family'] = \"sans-serif\"\n",
    "plt.rcParams['font.sans-serif'] = \"Arial\""
   ]
  },
  {
   "cell_type": "code",
   "execution_count": 8,
   "id": "dense-function",
   "metadata": {},
   "outputs": [],
   "source": [
    "plt.rcParams['lines.markersize'] = 1.0"
   ]
  },
  {
   "cell_type": "code",
   "execution_count": 9,
   "id": "loving-oasis",
   "metadata": {},
   "outputs": [],
   "source": [
    "# Set font sizes\n",
    "mpl.rcParams['font.size'] = 7\n",
    "mpl.rcParams['axes.labelsize'] = 7\n",
    "mpl.rcParams['xtick.labelsize'] = 7\n",
    "mpl.rcParams['ytick.labelsize'] = 7\n",
    "mpl.rcParams['legend.fontsize'] = 7\n",
    "#mpl.rcParams['title.fontsize'] = 7\n"
   ]
  },
  {
   "cell_type": "code",
   "execution_count": 10,
   "id": "norman-auditor",
   "metadata": {},
   "outputs": [],
   "source": [
    "use_case = 'simulation'"
   ]
  },
  {
   "cell_type": "code",
   "execution_count": 11,
   "id": "revolutionary-occurrence",
   "metadata": {},
   "outputs": [],
   "source": [
    "cmap = plt.get_cmap('Greys', 9)"
   ]
  },
  {
   "cell_type": "code",
   "execution_count": 12,
   "id": "revolutionary-stomach",
   "metadata": {},
   "outputs": [
    {
     "data": {
      "image/png": "[encoded data removed]",
      "text/html": [
       "<div style=\"vertical-align: middle;\"><strong>Greys</strong> </div><div class=\"cmap\"><img alt=\"Greys colormap\" title=\"Greys\" style=\"border: 1px solid #555;\" src=\"data:image/png;base64,iVBORw0KGgoAAAANSUhEUgAAAgAAAABACAYAAABsv8+/AAAAFHRFWHRUaXRsZQBHcmV5cyBjb2xvcm1hcORtd/YAAAAadEVYdERlc2NyaXB0aW9uAEdyZXlzIGNvbG9ybWFwGjLeEAAAADB0RVh0QXV0aG9yAE1hdHBsb3RsaWIgdjMuOS4yLCBodHRwczovL21hdHBsb3RsaWIub3JnYZnFUwAAADJ0RVh0U29mdHdhcmUATWF0cGxvdGxpYiB2My45LjIsIGh0dHBzOi8vbWF0cGxvdGxpYi5vcmdPP1p0AAABXUlEQVR4nO3WsQ2DQADAwCT7b0eFEKKhoWQCMsXnpfhuApd+P8/zvP7cfd+zE4a7rmt2wnDnec5OGG5d19kJQ+37PjthuOM4ZicMtyzL7IThtm2bnTDcZ3YAAPB7BgAAggwAAAQZAAAIMgAAEGQAACDIAABAkAEAgCADAABBBgAAggwAAAQZAAAIMgAAEGQAACDIAABAkAEAgCADAABBBgAAggwAAAQZAAAIMgAAEGQAACDIAABAkAEAgCADAABBBgAAggwAAAQZAAAIMgAAEGQAACDIAABAkAEAgCADAABBBgAAggwAAAQZAAAIMgAAEGQAACDIAABAkAEAgCADAABBBgAAggwAAAQZAAAIMgAAEGQAACDIAABAkAEAgCADAABBBgAAggwAAAQZAAAIMgAAEGQAACDIAABAkAEAgCADAABBBgAAggwAAAQZAAAIMgAAEGQAACDIAABA0Bdvghl/PMnJywAAAABJRU5ErkJggg==\"></div><div style=\"vertical-align: middle; max-width: 514px; display: flex; justify-content: space-between;\"><div style=\"float: left;\"><div title=\"#ffffffff\" style=\"display: inline-block; width: 1em; height: 1em; margin: 0; vertical-align: middle; border: 1px solid #555; background-color: #ffffffff;\"></div> under</div><div style=\"margin: 0 auto; display: inline-block;\">bad <div title=\"#00000000\" style=\"display: inline-block; width: 1em; height: 1em; margin: 0; vertical-align: middle; border: 1px solid #555; background-color: #00000000;\"></div></div><div style=\"float: right;\">over <div title=\"#000000ff\" style=\"display: inline-block; width: 1em; height: 1em; margin: 0; vertical-align: middle; border: 1px solid #555; background-color: #000000ff;\"></div></div></div>"
      ],
      "text/plain": [
       "<matplotlib.colors.LinearSegmentedColormap at 0x146be41de5c0>"
      ]
     },
     "execution_count": 12,
     "metadata": {},
     "output_type": "execute_result"
    }
   ],
   "source": [
    "cmap"
   ]
  },
  {
   "cell_type": "code",
   "execution_count": 13,
   "id": "danish-wellington",
   "metadata": {},
   "outputs": [],
   "source": [
    "custom_palette = [mpl.colors.rgb2hex(cmap(i)) for i in range(cmap.N)]"
   ]
  },
  {
   "cell_type": "code",
   "execution_count": 14,
   "id": "flying-weight",
   "metadata": {},
   "outputs": [],
   "source": [
    "custom_palette=custom_palette[2:-2]"
   ]
  },
  {
   "cell_type": "code",
   "execution_count": 15,
   "id": "crude-african",
   "metadata": {},
   "outputs": [],
   "source": [
    "categories = {'asw_batch': 'Batch removal',\n",
    " 'asw_batch_cosine': 'Batch removal',\n",
    " 'asw_batch_mean_other': 'Batch removal',\n",
    " 'asw_batch_mean_other_cosine': 'Batch removal',\n",
    " 'asw_batch_furthest': 'Batch removal',\n",
    " 'asw_batch_furthest_cosine': 'Batch removal',\n",
    " 'iLISI_batch': 'Batch removal',\n",
    " 'cLISI_full': 'Bio-conservation',\n",
    " 'CiLISI_batch': 'Batch removal',\n",
    " 'asw_label': 'Bio-conservation',\n",
    " 'asw_label_cosine': 'Bio-conservation',\n",
    " 'nmi': 'Bio-conservation',\n",
    " 'ari': 'Bio-conservation'}"
   ]
  },
  {
   "cell_type": "code",
   "execution_count": 16,
   "id": "endless-missouri",
   "metadata": {},
   "outputs": [],
   "source": [
    "metric_mapping = {'asw_batch': 'silhouette-based \\n batch removal metric \\n (Batch ASW)',\\\n",
    "                               'asw_batch_cosine': 'Batch ASW (cosine)',\\\n",
    "                               'asw_batch_mean_other': 'BRAS (euclidean)',\\\n",
    "                                'asw_batch_mean_other_cosine': 'BRAS',\\\n",
    "                                'asw_batch_furthest': 'BRAS (furthest, euclidean)',\\\n",
    "                                'asw_batch_furthest_cosine': 'BRAS (furthest, cosine)',\\\n",
    "                                'iLISI_batch': 'iLISI',\\\n",
    "                                'cLISI_full': 'cLISI',\\\n",
    "                                'CiLISI_batch': 'CiLISI',\\\n",
    "                                'asw_label': 'Cell type ASW',\\\n",
    "                                'asw_label_cosine': 'Cell type ASW (cosine)',\\\n",
    "                                'nmi': 'NMI cluster/label',\\\n",
    "                                'ari': 'ARI cluster/label'\n",
    "                               }"
   ]
  },
  {
   "cell_type": "code",
   "execution_count": 17,
   "id": "respected-subscription",
   "metadata": {},
   "outputs": [],
   "source": [
    "scores = pd.read_csv(\"evaluation/batch_removal_scores.csv\", index_col=0)"
   ]
  },
  {
   "cell_type": "code",
   "execution_count": 18,
   "id": "complex-lightweight",
   "metadata": {},
   "outputs": [],
   "source": [
    "scores = scores.T"
   ]
  },
  {
   "cell_type": "code",
   "execution_count": 19,
   "id": "initial-stereo",
   "metadata": {},
   "outputs": [
    {
     "data": {
      "text/html": [
       "<div>\n",
       "<style scoped>\n",
       "    .dataframe tbody tr th:only-of-type {\n",
       "        vertical-align: middle;\n",
       "    }\n",
       "\n",
       "    .dataframe tbody tr th {\n",
       "        vertical-align: top;\n",
       "    }\n",
       "\n",
       "    .dataframe thead th {\n",
       "        text-align: right;\n",
       "    }\n",
       "</style>\n",
       "<table border=\"1\" class=\"dataframe\">\n",
       "  <thead>\n",
       "    <tr style=\"text-align: right;\">\n",
       "      <th></th>\n",
       "      <th>asw_batch</th>\n",
       "      <th>asw_batch_cosine</th>\n",
       "      <th>asw_batch_mean_other</th>\n",
       "      <th>asw_batch_mean_other_cosine</th>\n",
       "      <th>asw_batch_furthest</th>\n",
       "      <th>asw_batch_furthest_cosine</th>\n",
       "      <th>iLISI_batch</th>\n",
       "      <th>cLISI_full</th>\n",
       "      <th>CiLISI_batch</th>\n",
       "      <th>asw_label</th>\n",
       "      <th>asw_label_cosine</th>\n",
       "      <th>nmi</th>\n",
       "      <th>ari</th>\n",
       "    </tr>\n",
       "  </thead>\n",
       "  <tbody>\n",
       "    <tr>\n",
       "      <th>Overcorrected</th>\n",
       "      <td>0.993250</td>\n",
       "      <td>0.990154</td>\n",
       "      <td>0.994599</td>\n",
       "      <td>0.992678</td>\n",
       "      <td>0.992805</td>\n",
       "      <td>0.990485</td>\n",
       "      <td>0.779334</td>\n",
       "      <td>0.291609</td>\n",
       "      <td>0.776595</td>\n",
       "      <td>0.498388</td>\n",
       "      <td>0.498835</td>\n",
       "      <td>0.006532</td>\n",
       "      <td>0.000292</td>\n",
       "    </tr>\n",
       "    <tr>\n",
       "      <th>None</th>\n",
       "      <td>0.993038</td>\n",
       "      <td>0.989877</td>\n",
       "      <td>0.994812</td>\n",
       "      <td>0.992166</td>\n",
       "      <td>0.993199</td>\n",
       "      <td>0.989480</td>\n",
       "      <td>0.780233</td>\n",
       "      <td>0.721169</td>\n",
       "      <td>0.783159</td>\n",
       "      <td>0.523401</td>\n",
       "      <td>0.542321</td>\n",
       "      <td>0.808778</td>\n",
       "      <td>0.891168</td>\n",
       "    </tr>\n",
       "    <tr>\n",
       "      <th>Mild</th>\n",
       "      <td>0.993213</td>\n",
       "      <td>0.989834</td>\n",
       "      <td>0.982046</td>\n",
       "      <td>0.964275</td>\n",
       "      <td>0.970899</td>\n",
       "      <td>0.943966</td>\n",
       "      <td>0.700693</td>\n",
       "      <td>0.738715</td>\n",
       "      <td>0.706151</td>\n",
       "      <td>0.523963</td>\n",
       "      <td>0.547117</td>\n",
       "      <td>0.802031</td>\n",
       "      <td>0.773971</td>\n",
       "    </tr>\n",
       "    <tr>\n",
       "      <th>Intermediate</th>\n",
       "      <td>0.993096</td>\n",
       "      <td>0.990327</td>\n",
       "      <td>0.962877</td>\n",
       "      <td>0.925486</td>\n",
       "      <td>0.942532</td>\n",
       "      <td>0.888737</td>\n",
       "      <td>0.489355</td>\n",
       "      <td>0.834451</td>\n",
       "      <td>0.496775</td>\n",
       "      <td>0.524827</td>\n",
       "      <td>0.545812</td>\n",
       "      <td>0.799670</td>\n",
       "      <td>0.773368</td>\n",
       "    </tr>\n",
       "    <tr>\n",
       "      <th>Strong</th>\n",
       "      <td>0.994865</td>\n",
       "      <td>0.990636</td>\n",
       "      <td>0.937804</td>\n",
       "      <td>0.876157</td>\n",
       "      <td>0.907778</td>\n",
       "      <td>0.822280</td>\n",
       "      <td>0.334565</td>\n",
       "      <td>0.787153</td>\n",
       "      <td>0.338386</td>\n",
       "      <td>0.523369</td>\n",
       "      <td>0.543698</td>\n",
       "      <td>0.570391</td>\n",
       "      <td>0.450946</td>\n",
       "    </tr>\n",
       "  </tbody>\n",
       "</table>\n",
       "</div>"
      ],
      "text/plain": [
       "               asw_batch  asw_batch_cosine  asw_batch_mean_other  \\\n",
       "Overcorrected   0.993250          0.990154              0.994599   \n",
       "None            0.993038          0.989877              0.994812   \n",
       "Mild            0.993213          0.989834              0.982046   \n",
       "Intermediate    0.993096          0.990327              0.962877   \n",
       "Strong          0.994865          0.990636              0.937804   \n",
       "\n",
       "               asw_batch_mean_other_cosine  asw_batch_furthest  \\\n",
       "Overcorrected                     0.992678            0.992805   \n",
       "None                              0.992166            0.993199   \n",
       "Mild                              0.964275            0.970899   \n",
       "Intermediate                      0.925486            0.942532   \n",
       "Strong                            0.876157            0.907778   \n",
       "\n",
       "               asw_batch_furthest_cosine  iLISI_batch  cLISI_full  \\\n",
       "Overcorrected                   0.990485     0.779334    0.291609   \n",
       "None                            0.989480     0.780233    0.721169   \n",
       "Mild                            0.943966     0.700693    0.738715   \n",
       "Intermediate                    0.888737     0.489355    0.834451   \n",
       "Strong                          0.822280     0.334565    0.787153   \n",
       "\n",
       "               CiLISI_batch  asw_label  asw_label_cosine       nmi       ari  \n",
       "Overcorrected      0.776595   0.498388          0.498835  0.006532  0.000292  \n",
       "None               0.783159   0.523401          0.542321  0.808778  0.891168  \n",
       "Mild               0.706151   0.523963          0.547117  0.802031  0.773971  \n",
       "Intermediate       0.496775   0.524827          0.545812  0.799670  0.773368  \n",
       "Strong             0.338386   0.523369          0.543698  0.570391  0.450946  "
      ]
     },
     "execution_count": 19,
     "metadata": {},
     "output_type": "execute_result"
    }
   ],
   "source": [
    "scores"
   ]
  },
  {
   "cell_type": "code",
   "execution_count": 20,
   "id": "ahead-tyler",
   "metadata": {},
   "outputs": [],
   "source": [
    "scores = scores.reset_index().melt(id_vars='index', var_name='Metric', value_name='Score')\n"
   ]
  },
  {
   "cell_type": "code",
   "execution_count": 21,
   "id": "peripheral-effect",
   "metadata": {},
   "outputs": [],
   "source": [
    "scores = scores.rename(columns={'index': 'Scenario'})"
   ]
  },
  {
   "cell_type": "code",
   "execution_count": 22,
   "id": "physical-trash",
   "metadata": {},
   "outputs": [],
   "source": [
    "scores['Scenario'] = scores['Scenario'].astype('category')"
   ]
  },
  {
   "cell_type": "code",
   "execution_count": 23,
   "id": "gross-piece",
   "metadata": {},
   "outputs": [],
   "source": [
    "scores['Scenario'] = scores['Scenario'].cat.reorder_categories(['Strong', 'Intermediate', 'Mild', 'None', 'Overcorrected'], ordered=True)"
   ]
  },
  {
   "cell_type": "code",
   "execution_count": 24,
   "id": "conservative-jefferson",
   "metadata": {},
   "outputs": [],
   "source": [
    "scores['Category'] = scores['Metric'].map(categories)"
   ]
  },
  {
   "cell_type": "code",
   "execution_count": 25,
   "id": "fundamental-startup",
   "metadata": {},
   "outputs": [],
   "source": [
    "bio_scores = scores[scores['Category'] == 'Bio-conservation']"
   ]
  },
  {
   "cell_type": "code",
   "execution_count": 26,
   "id": "metric-aspect",
   "metadata": {},
   "outputs": [
    {
     "name": "stderr",
     "output_type": "stream",
     "text": [
      "/tmp/7431749.1.gpu.q/ipykernel_17084/2146692233.py:1: SettingWithCopyWarning: \n",
      "A value is trying to be set on a copy of a slice from a DataFrame.\n",
      "Try using .loc[row_indexer,col_indexer] = value instead\n",
      "\n",
      "See the caveats in the documentation: https://pandas.pydata.org/pandas-docs/stable/user_guide/indexing.html#returning-a-view-versus-a-copy\n",
      "  bio_scores['Metric'] = bio_scores['Metric'].map(metric_mapping)\n"
     ]
    }
   ],
   "source": [
    "bio_scores['Metric'] = bio_scores['Metric'].map(metric_mapping)"
   ]
  },
  {
   "cell_type": "code",
   "execution_count": 27,
   "id": "middle-joining",
   "metadata": {},
   "outputs": [],
   "source": [
    "batch_scores = scores[scores['Category'] == 'Batch removal']"
   ]
  },
  {
   "cell_type": "code",
   "execution_count": 28,
   "id": "accepted-mechanism",
   "metadata": {},
   "outputs": [
    {
     "name": "stderr",
     "output_type": "stream",
     "text": [
      "/tmp/7431749.1.gpu.q/ipykernel_17084/2892087235.py:1: SettingWithCopyWarning: \n",
      "A value is trying to be set on a copy of a slice from a DataFrame.\n",
      "Try using .loc[row_indexer,col_indexer] = value instead\n",
      "\n",
      "See the caveats in the documentation: https://pandas.pydata.org/pandas-docs/stable/user_guide/indexing.html#returning-a-view-versus-a-copy\n",
      "  batch_scores['Metric'] = batch_scores['Metric'].map(metric_mapping)\n"
     ]
    }
   ],
   "source": [
    "batch_scores['Metric'] = batch_scores['Metric'].map(metric_mapping)"
   ]
  },
  {
   "cell_type": "code",
   "execution_count": 29,
   "id": "limited-agreement",
   "metadata": {},
   "outputs": [],
   "source": [
    "# Metrics main figure"
   ]
  },
  {
   "cell_type": "code",
   "execution_count": 30,
   "id": "developmental-warren",
   "metadata": {},
   "outputs": [],
   "source": [
    "plt.rcParams[\"axes.linewidth\"] = 1\n",
    "mpl.rcParams['xtick.major.width'] = 1\n",
    "mpl.rcParams['ytick.major.width'] = 1\n",
    "mpl.rcParams['xtick.minor.width'] = 1\n",
    "mpl.rcParams['ytick.minor.width'] = 1\n"
   ]
  },
  {
   "cell_type": "code",
   "execution_count": 31,
   "id": "attended-notebook",
   "metadata": {},
   "outputs": [],
   "source": [
    "batch_scores_main = batch_scores[(batch_scores['Metric'] == 'silhouette-based \\n batch removal metric \\n (Batch ASW)') | \n",
    "                                 (batch_scores['Metric'] == 'BRAS') | \n",
    "                                 (batch_scores['Metric'] == 'CiLISI')]\n"
   ]
  },
  {
   "cell_type": "code",
   "execution_count": 32,
   "id": "published-bearing",
   "metadata": {},
   "outputs": [],
   "source": [
    "plt.rcParams[\"figure.figsize\"] = (80*mm, 3/8*80*mm)\n"
   ]
  },
  {
   "cell_type": "code",
   "execution_count": 33,
   "id": "suitable-coaching",
   "metadata": {},
   "outputs": [
    {
     "data": {
      "image/png": "[encoded data removed]",
      "text/plain": [
       "<Figure size 314.961x118.11 with 1 Axes>"
      ]
     },
     "metadata": {},
     "output_type": "display_data"
    }
   ],
   "source": [
    "g = sns.barplot(data=batch_scores_main, x='Metric', y='Score', hue='Scenario', palette=custom_palette)\n",
    "plt.xticks(rotation=0)\n",
    "g.legend(loc='center left', bbox_to_anchor=(1, 0.5))\n",
    "plt.savefig('figures/{}_main_batch_removal.png'.format(use_case), format='png', dpi=600, bbox_inches='tight')"
   ]
  },
  {
   "cell_type": "code",
   "execution_count": 34,
   "id": "reverse-julian",
   "metadata": {},
   "outputs": [],
   "source": [
    "plt.rcParams[\"figure.figsize\"] = (1/3*80*mm, 3/8*80*mm)"
   ]
  },
  {
   "cell_type": "code",
   "execution_count": 35,
   "id": "powered-commander",
   "metadata": {},
   "outputs": [
    {
     "data": {
      "image/png": "[encoded data removed]",
      "text/plain": [
       "<Figure size 104.987x118.11 with 1 Axes>"
      ]
     },
     "metadata": {},
     "output_type": "display_data"
    }
   ],
   "source": [
    "g = sns.barplot(data=bio_scores[bio_scores['Metric'] == 'ARI cluster/label'], x='Metric', y='Score', hue='Scenario', palette=custom_palette)\n",
    "plt.xticks(rotation=0)\n",
    "g.legend(loc='center left', bbox_to_anchor=(1, 0.5))\n",
    "plt.savefig('figures/{}_main_bio_cons.png'.format(use_case), format='png', dpi=600, bbox_inches='tight')"
   ]
  },
  {
   "cell_type": "code",
   "execution_count": 36,
   "id": "flexible-suffering",
   "metadata": {},
   "outputs": [],
   "source": [
    "# All metrics supplement"
   ]
  },
  {
   "cell_type": "code",
   "execution_count": 37,
   "id": "developmental-george",
   "metadata": {},
   "outputs": [],
   "source": [
    "plt.rcParams[\"figure.figsize\"] = (8/13*150*mm, 3/8*80*mm)"
   ]
  },
  {
   "cell_type": "code",
   "execution_count": 38,
   "id": "broke-forth",
   "metadata": {},
   "outputs": [
    {
     "data": {
      "image/png": "[encoded data removed]",
      "text/plain": [
       "<Figure size 363.416x118.11 with 1 Axes>"
      ]
     },
     "metadata": {},
     "output_type": "display_data"
    }
   ],
   "source": [
    "g = sns.barplot(data=batch_scores, x='Metric', y='Score', hue='Scenario', palette=custom_palette)\n",
    "plt.xticks(rotation=90)\n",
    "g.legend(loc='center left', bbox_to_anchor=(1, 0.5))\n",
    "plt.savefig('figures/{}_supp_batch_removal.png'.format(use_case), format='png', dpi=600, bbox_inches='tight')"
   ]
  },
  {
   "cell_type": "code",
   "execution_count": 39,
   "id": "dried-processor",
   "metadata": {},
   "outputs": [],
   "source": [
    "plt.rcParams[\"figure.figsize\"] = (5/13*150*mm, 3/8*80*mm)"
   ]
  },
  {
   "cell_type": "code",
   "execution_count": 40,
   "id": "according-texture",
   "metadata": {},
   "outputs": [
    {
     "data": {
      "image/png": "[encoded data removed]",
      "text/plain": [
       "<Figure size 227.135x118.11 with 1 Axes>"
      ]
     },
     "metadata": {},
     "output_type": "display_data"
    }
   ],
   "source": [
    "g = sns.barplot(data=bio_scores, x='Metric', y='Score', hue='Scenario', palette=custom_palette)\n",
    "plt.xticks(rotation=90)\n",
    "g.legend(loc='center left', bbox_to_anchor=(1, 0.5))\n",
    "plt.savefig('figures/{}_supp_bio_cons.png'.format(use_case), format='png', dpi=600, bbox_inches='tight')"
   ]
  },
  {
   "cell_type": "code",
   "execution_count": 41,
   "id": "surface-bangladesh",
   "metadata": {},
   "outputs": [
    {
     "name": "stdout",
     "output_type": "stream",
     "text": [
      "Default font size: 7.0\n",
      "Title font size: 18.0\n",
      "Axes label font size: 7.0\n",
      "X-tick label font size: 7.0\n",
      "Y-tick label font size: 7.0\n",
      "Legend font size: 7.0\n"
     ]
    }
   ],
   "source": [
    "print(\"Default font size:\", plt.rcParams['font.size'])\n",
    "print(\"Title font size:\", plt.rcParams['axes.titlesize'])\n",
    "print(\"Axes label font size:\", plt.rcParams['axes.labelsize'])\n",
    "print(\"X-tick label font size:\", plt.rcParams['xtick.labelsize'])\n",
    "print(\"Y-tick label font size:\", plt.rcParams['ytick.labelsize'])\n",
    "print(\"Legend font size:\", plt.rcParams['legend.fontsize'])\n"
   ]
  }
 ],
 "metadata": {
  "kernelspec": {
   "display_name": "scib_no_defaults",
   "language": "python",
   "name": "scib_no_defaults"
  },
  "language_info": {
   "codemirror_mode": {
    "name": "ipython",
    "version": 3
   },
   "file_extension": ".py",
   "mimetype": "text/x-python",
   "name": "python",
   "nbconvert_exporter": "python",
   "pygments_lexer": "ipython3",
   "version": "3.10.14"
  }
 },
 "nbformat": 4,
 "nbformat_minor": 5
}
